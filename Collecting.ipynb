{
 "cells": [
  {
   "cell_type": "code",
   "execution_count": 13,
   "id": "79c1fedb-d3c8-4a08-92be-ec9633f9da4e",
   "metadata": {},
   "outputs": [],
   "source": [
    "from selenium.webdriver.chrome.options import Options\n",
    "from selenium.webdriver.common.by import By\n",
    "from selenium.webdriver.support.ui import WebDriverWait\n",
    "from selenium.webdriver.support import expected_conditions as EC\n",
    "from selenium import webdriver\n",
    "from selenium.common.exceptions import TimeoutException\n",
    "from selenium.common.exceptions import NoSuchElementException"
   ]
  },
  {
   "cell_type": "code",
   "execution_count": 14,
   "id": "f983baf8-c974-4681-8e17-0047542daaac",
   "metadata": {},
   "outputs": [],
   "source": [
    "# Set up Chrome options and create a WebDriver instance\n",
    "chrome_options = Options()\n",
    "chrome_options.add_argument(\"--headless\") \n",
    "chrome_options.add_argument(\"user-agent=Mozilla/5.0 (Windows NT 10.0; Win64; x64) AppleWebKit/537.36 (KHTML, like Gecko) Chrome/116.0.5845.180 Safari/537.36\")\n",
    "browser = webdriver.Chrome(options=chrome_options)\n",
    "\n"
   ]
  },
  {
   "cell_type": "code",
   "execution_count": 15,
   "id": "d0bad714-63db-48e7-9e76-78e9d55133b8",
   "metadata": {},
   "outputs": [
    {
     "name": "stdout",
     "output_type": "stream",
     "text": [
      "Opel\n",
      "Peugeot\n",
      "Mercedes-Benz\n",
      "Honda\n",
      "Hyundai\n",
      "Chrysler\n",
      "Volkswagen\n",
      "Alfa-Romeo\n",
      "Skoda\n",
      "Citroen\n",
      "Seat\n",
      "Nissan\n",
      "Volvo\n",
      "Chery\n",
      "Dacia\n",
      "Kia\n",
      "Lancia\n",
      "mini\n",
      "Chevrolet\n",
      "Porsche\n",
      "Mitsubishi\n",
      "Aston-Martin\n",
      "Suzuki\n",
      "Lada\n",
      "Subaru\n",
      "Mazda\n",
      "Geely\n",
      "Daewoo\n",
      "Saab\n",
      "Daihatsu\n",
      "Rover\n"
     ]
    }
   ],
   "source": [
    "car_list= ['Opel', 'Peugeot', 'Mercedes-Benz', 'Honda', 'Hyundai','Chrysler', 'Volkswagen', \n",
    "           'Alfa-Romeo', 'Skoda', 'Citroen', 'Seat','Nissan', 'Volvo', 'Chery', 'Dacia', \n",
    "           'Kia', 'Lancia', 'mini','Chevrolet', 'Porsche', 'Mitsubishi', 'Aston-Martin', \n",
    "           'Suzuki','Lada', 'Subaru', 'Mazda', 'Geely', 'Daewoo', 'Saab', 'Daihatsu','Rover']\n",
    "page_number=1\n",
    "elements=[]\n",
    "for i in car_list:\n",
    "    page_number=1\n",
    "    print(i)\n",
    "    while page_number <=10:\n",
    "        link=\"https://www.arabam.com/ikinci-el/otomobil/\"+str(i)+\"?take=50&page=\"+str(page_number)\n",
    "        browser.get(link)\n",
    "        page_number+=1 \n",
    "        j=2\n",
    "        try:\n",
    "            while j <= 53:\n",
    "                if j in [7,8,13, 14]:\n",
    "                    j += 1\n",
    "                else:\n",
    "                    try:\n",
    "                        tikla = browser.find_element(By.XPATH, f\"/html/body/div[2]/div[2]/div[3]/div/div[2]/div[2]/div[2]/table/tbody/tr[{j}]\")\n",
    "                        tikla.click()\n",
    "                        try:\n",
    "                            element = browser.find_element(By.CSS_SELECTOR, '.product-properties')\n",
    "                            elements.append(element.text)\n",
    "                            browser.execute_script(\"window.history.go(-1)\")\n",
    "                            j += 1\n",
    "                        except NoSuchElementException:\n",
    "                            browser.execute_script(\"window.history.go(-1)\")\n",
    "                            j+=1\n",
    "                    except:\n",
    "                        tikla = browser.find_element(By.XPATH, f\"/html/body/div[2]/div[2]/div[3]/div/div[2]/div[2]/div/div[2]/table/tbody/tr[{j}]\")\n",
    "                        tikla.click()\n",
    "                        try:\n",
    "                            element = browser.find_element(By.CSS_SELECTOR, '.product-properties')\n",
    "                            elements.append(element.text)\n",
    "                            browser.execute_script(\"window.history.go(-1)\")\n",
    "                            j+=1  \n",
    "                        except NoSuchElementException:\n",
    "                            browser.execute_script(\"window.history.go(-1)\")\n",
    "                            j+=1\n",
    "\n",
    "        except:\n",
    "            page_number=1 \n",
    "            break\n",
    "                    "
   ]
  },
  {
   "cell_type": "code",
   "execution_count": 16,
   "id": "960ee02b-63cc-4593-8560-e9a806934793",
   "metadata": {},
   "outputs": [],
   "source": [
    "import csv\n",
    "def write_to_csv(data_list, file_name):\n",
    "    with open(file_name, 'w', newline='', encoding='utf-8') as csvfile:\n",
    "        writer = csv.writer(csvfile)\n",
    "\n",
    "        for data in data_list:\n",
    "            writer.writerow([data])  # Her bir veriyi CSV dosyasına yazın\n",
    "write_to_csv(elements, 'GeriKalanlar.csv')"
   ]
  },
  {
   "cell_type": "code",
   "execution_count": null,
   "id": "5eb3e2f7-d503-43b6-816e-18ac0dbce03c",
   "metadata": {},
   "outputs": [],
   "source": []
  }
 ],
 "metadata": {
  "kernelspec": {
   "display_name": "Python 3 (ipykernel)",
   "language": "python",
   "name": "python3"
  },
  "language_info": {
   "codemirror_mode": {
    "name": "ipython",
    "version": 3
   },
   "file_extension": ".py",
   "mimetype": "text/x-python",
   "name": "python",
   "nbconvert_exporter": "python",
   "pygments_lexer": "ipython3",
   "version": "3.9.16"
  }
 },
 "nbformat": 4,
 "nbformat_minor": 5
}
