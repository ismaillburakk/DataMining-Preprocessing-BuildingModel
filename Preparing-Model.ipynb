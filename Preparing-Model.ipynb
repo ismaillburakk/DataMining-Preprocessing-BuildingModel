{
 "cells": [
  {
   "cell_type": "code",
   "execution_count": 266,
   "id": "81324696-be3c-43e2-8a8e-824152489178",
   "metadata": {},
   "outputs": [],
   "source": [
    "import pandas as pd \n",
    "import numpy as np\n",
    "import matplotlib.pyplot as plt\n",
    "from sklearn.model_selection import train_test_split\n",
    "from sklearn.preprocessing import MinMaxScaler, LabelEncoder \n",
    "from sklearn.model_selection import learning_curve\n",
    "from sklearn.ensemble import RandomForestRegressor\n",
    "from sklearn.metrics import mean_absolute_error\n",
    "from sklearn.model_selection import learning_curve\n",
    "import joblib"
   ]
  },
  {
   "cell_type": "code",
   "execution_count": 267,
   "id": "9618e82d-b434-4aca-b79c-baaaf6338670",
   "metadata": {},
   "outputs": [],
   "source": [
    "def FirstPrep(df):\n",
    "    df=df[0].str.split('\\n').apply(pd.Series)\n",
    "    df.drop([0, 2,3,4,5,6,7,8,10,12,14,16,18,20,22,24,26,28,30,32,34,35,36,37,38,39,40], inplace=True, axis=1)\n",
    "    df.columns=[\"Fiyat\", \"Marka\", \"Seri\", \"Model\", \"Yıl\", \"Kilometre\", \"VitesTipi\", \"YakıtTipi\", \"KasaTipi\", \"MotorHacmi\", \"MotorGücü\", \"Çekiş\", \"OrtYakıtTüketimi\", \"YakıtDeposu\"]\n",
    "    #print(df)\n",
    "    return df\n"
   ]
  },
  {
   "cell_type": "code",
   "execution_count": 268,
   "id": "804356fc-80c4-4b73-a0c4-47facd850288",
   "metadata": {},
   "outputs": [
    {
     "name": "stdout",
     "output_type": "stream",
     "text": [
      "(1444, 14) (1437, 14) (7855, 14) (479, 14) (11215, 12)\n"
     ]
    }
   ],
   "source": [
    "a=pd.read_csv(\"FiatTofasRenaultAudi.csv\", header=None)\n",
    "b=pd.read_csv(\"BmwToyotaFord.csv\", header=None)\n",
    "c=pd.read_csv(\"GeriKalanlar.csv\", header=None)\n",
    "d=pd.read_csv(\"Audi.csv\", header=None)\n",
    "\n",
    "a=FirstPrep(a)\n",
    "a=a[a['Marka'] != 'Audi']\n",
    "a.reset_index(drop=True, inplace=True)\n",
    "b=FirstPrep(b)\n",
    "c=FirstPrep(c)\n",
    "d=FirstPrep(d)\n",
    "df=pd.concat([a,b,c,d], ignore_index=True)\n",
    "df_yedek=df\n",
    "df.drop([\"OrtYakıtTüketimi\",\"YakıtDeposu\"], axis=1, inplace=True)\n",
    "print(a.shape, b.shape, c.shape, d.shape,df.shape)\n"
   ]
  },
  {
   "cell_type": "code",
   "execution_count": 269,
   "id": "98870c2f-bbb9-4250-a24a-07298edadfba",
   "metadata": {},
   "outputs": [
    {
     "data": {
      "text/plain": [
       "array(['Fiat', 'Marka', 'Tofaş', 'Renault', 'BMW', 'Toyota', 'Ford',\n",
       "       'Opel', 'Peugeot', 'Mercedes - Benz', 'Honda', 'Hyundai',\n",
       "       'Chrysler', 'Volkswagen', 'Alfa Romeo', 'Skoda', 'Citroen', nan,\n",
       "       'Seat', 'Nissan', 'Volvo', 'Chery', 'Dacia', 'Kia', 'Lancia',\n",
       "       'MINI', 'Chevrolet', 'Porsche', 'Mitsubishi', 'Aston Martin',\n",
       "       'Suzuki', 'Lada', 'Subaru', 'Mazda', 'Geely', 'Daewoo', 'Saab',\n",
       "       'Daihatsu', 'Rover', 'Audi'], dtype=object)"
      ]
     },
     "execution_count": 269,
     "metadata": {},
     "output_type": "execute_result"
    }
   ],
   "source": [
    "df[\"Marka\"].unique()"
   ]
  },
  {
   "cell_type": "code",
   "execution_count": 270,
   "id": "a0980609-a4fe-42a0-9281-b872c2f170a3",
   "metadata": {},
   "outputs": [
    {
     "data": {
      "text/html": [
       "<div>\n",
       "<style scoped>\n",
       "    .dataframe tbody tr th:only-of-type {\n",
       "        vertical-align: middle;\n",
       "    }\n",
       "\n",
       "    .dataframe tbody tr th {\n",
       "        vertical-align: top;\n",
       "    }\n",
       "\n",
       "    .dataframe thead th {\n",
       "        text-align: right;\n",
       "    }\n",
       "</style>\n",
       "<table border=\"1\" class=\"dataframe\">\n",
       "  <thead>\n",
       "    <tr style=\"text-align: right;\">\n",
       "      <th></th>\n",
       "      <th>Fiyat</th>\n",
       "      <th>Marka</th>\n",
       "      <th>Seri</th>\n",
       "      <th>Model</th>\n",
       "      <th>Yıl</th>\n",
       "      <th>Kilometre</th>\n",
       "      <th>VitesTipi</th>\n",
       "      <th>YakıtTipi</th>\n",
       "      <th>KasaTipi</th>\n",
       "      <th>MotorHacmi</th>\n",
       "      <th>MotorGücü</th>\n",
       "      <th>Çekiş</th>\n",
       "    </tr>\n",
       "  </thead>\n",
       "  <tbody>\n",
       "    <tr>\n",
       "      <th>0</th>\n",
       "      <td>546.000 TL</td>\n",
       "      <td>Fiat</td>\n",
       "      <td>Linea</td>\n",
       "      <td>1.4 Fire Pop</td>\n",
       "      <td>2014</td>\n",
       "      <td>117.000 km</td>\n",
       "      <td>Düz</td>\n",
       "      <td>LPG &amp; Benzin</td>\n",
       "      <td>Sedan</td>\n",
       "      <td>1368 cc</td>\n",
       "      <td>77 hp</td>\n",
       "      <td>Önden Çekiş</td>\n",
       "    </tr>\n",
       "    <tr>\n",
       "      <th>1</th>\n",
       "      <td>685.000 TL</td>\n",
       "      <td>Fiat</td>\n",
       "      <td>Egea</td>\n",
       "      <td>1.4 Fire Urban Plus</td>\n",
       "      <td>2018</td>\n",
       "      <td>144.000 km</td>\n",
       "      <td>Düz</td>\n",
       "      <td>Benzin</td>\n",
       "      <td>Hatchback/5</td>\n",
       "      <td>1368 cc</td>\n",
       "      <td>95 hp</td>\n",
       "      <td>Önden Çekiş</td>\n",
       "    </tr>\n",
       "    <tr>\n",
       "      <th>2</th>\n",
       "      <td>635.000 TL</td>\n",
       "      <td>Fiat</td>\n",
       "      <td>Egea</td>\n",
       "      <td>1.4 Fire Urban</td>\n",
       "      <td>2016</td>\n",
       "      <td>110.000 km</td>\n",
       "      <td>Düz</td>\n",
       "      <td>LPG &amp; Benzin</td>\n",
       "      <td>Sedan</td>\n",
       "      <td>1368 cc</td>\n",
       "      <td>95 hp</td>\n",
       "      <td>Önden Çekiş</td>\n",
       "    </tr>\n",
       "    <tr>\n",
       "      <th>3</th>\n",
       "      <td>555.000 TL</td>\n",
       "      <td>Fiat</td>\n",
       "      <td>Egea</td>\n",
       "      <td>1.3 Multijet Easy</td>\n",
       "      <td>2017</td>\n",
       "      <td>87.000 km</td>\n",
       "      <td>Düz</td>\n",
       "      <td>Dizel</td>\n",
       "      <td>Sedan</td>\n",
       "      <td>1248 cc</td>\n",
       "      <td>95 hp</td>\n",
       "      <td>Önden Çekiş</td>\n",
       "    </tr>\n",
       "    <tr>\n",
       "      <th>4</th>\n",
       "      <td>710.000 TL</td>\n",
       "      <td>Fiat</td>\n",
       "      <td>Egea</td>\n",
       "      <td>1.4 Fire Urban Plus</td>\n",
       "      <td>2020</td>\n",
       "      <td>30.800 km</td>\n",
       "      <td>Düz</td>\n",
       "      <td>Benzin</td>\n",
       "      <td>Sedan</td>\n",
       "      <td>1368 cc</td>\n",
       "      <td>95 hp</td>\n",
       "      <td>Önden Çekiş</td>\n",
       "    </tr>\n",
       "    <tr>\n",
       "      <th>...</th>\n",
       "      <td>...</td>\n",
       "      <td>...</td>\n",
       "      <td>...</td>\n",
       "      <td>...</td>\n",
       "      <td>...</td>\n",
       "      <td>...</td>\n",
       "      <td>...</td>\n",
       "      <td>...</td>\n",
       "      <td>...</td>\n",
       "      <td>...</td>\n",
       "      <td>...</td>\n",
       "      <td>...</td>\n",
       "    </tr>\n",
       "    <tr>\n",
       "      <th>10928</th>\n",
       "      <td>370.000 TL</td>\n",
       "      <td>Audi</td>\n",
       "      <td>A4</td>\n",
       "      <td>A4 Sedan 1.8 T Quattro</td>\n",
       "      <td>1997</td>\n",
       "      <td>286.000 km</td>\n",
       "      <td>Düz</td>\n",
       "      <td>LPG &amp; Benzin</td>\n",
       "      <td>Sedan</td>\n",
       "      <td>1781 cc</td>\n",
       "      <td>150 hp</td>\n",
       "      <td>4WD (Sürekli)</td>\n",
       "    </tr>\n",
       "    <tr>\n",
       "      <th>10929</th>\n",
       "      <td>449.900 TL</td>\n",
       "      <td>Audi</td>\n",
       "      <td>A4</td>\n",
       "      <td>A4 Sedan 1.9 TDI</td>\n",
       "      <td>2005</td>\n",
       "      <td>547.000 km</td>\n",
       "      <td>Otomatik</td>\n",
       "      <td>Dizel</td>\n",
       "      <td>Sedan</td>\n",
       "      <td>1896 cc</td>\n",
       "      <td>130 hp</td>\n",
       "      <td>Önden Çekiş</td>\n",
       "    </tr>\n",
       "    <tr>\n",
       "      <th>10930</th>\n",
       "      <td>1.250.000 TL</td>\n",
       "      <td>Audi</td>\n",
       "      <td>A3</td>\n",
       "      <td>A3 Sedan 1.6 TDI Dynamic</td>\n",
       "      <td>2017</td>\n",
       "      <td>13.850 km</td>\n",
       "      <td>Yarı Otomatik</td>\n",
       "      <td>Dizel</td>\n",
       "      <td>Sedan</td>\n",
       "      <td>1598 cc</td>\n",
       "      <td>116 hp</td>\n",
       "      <td>Önden Çekiş</td>\n",
       "    </tr>\n",
       "    <tr>\n",
       "      <th>10931</th>\n",
       "      <td>1.759.000 TL</td>\n",
       "      <td>Audi</td>\n",
       "      <td>A4</td>\n",
       "      <td>A4 Sedan 1.4 TFSI</td>\n",
       "      <td>2017</td>\n",
       "      <td>86.996 km</td>\n",
       "      <td>Yarı Otomatik</td>\n",
       "      <td>Benzin</td>\n",
       "      <td>Sedan</td>\n",
       "      <td>1395 cc</td>\n",
       "      <td>150 hp</td>\n",
       "      <td>Önden Çekiş</td>\n",
       "    </tr>\n",
       "    <tr>\n",
       "      <th>10932</th>\n",
       "      <td>1.580.000 TL</td>\n",
       "      <td>Audi</td>\n",
       "      <td>A6</td>\n",
       "      <td>A6 Sedan 2.0 TDI</td>\n",
       "      <td>2013</td>\n",
       "      <td>260.000 km</td>\n",
       "      <td>Otomatik</td>\n",
       "      <td>Dizel</td>\n",
       "      <td>Sedan</td>\n",
       "      <td>1968 cc</td>\n",
       "      <td>177 hp</td>\n",
       "      <td>Önden Çekiş</td>\n",
       "    </tr>\n",
       "  </tbody>\n",
       "</table>\n",
       "<p>10933 rows × 12 columns</p>\n",
       "</div>"
      ],
      "text/plain": [
       "              Fiyat Marka   Seri                     Model   Yıl   Kilometre  \\\n",
       "0        546.000 TL  Fiat  Linea              1.4 Fire Pop  2014  117.000 km   \n",
       "1        685.000 TL  Fiat   Egea       1.4 Fire Urban Plus  2018  144.000 km   \n",
       "2        635.000 TL  Fiat   Egea            1.4 Fire Urban  2016  110.000 km   \n",
       "3        555.000 TL  Fiat   Egea         1.3 Multijet Easy  2017   87.000 km   \n",
       "4        710.000 TL  Fiat   Egea       1.4 Fire Urban Plus  2020   30.800 km   \n",
       "...             ...   ...    ...                       ...   ...         ...   \n",
       "10928    370.000 TL  Audi     A4    A4 Sedan 1.8 T Quattro  1997  286.000 km   \n",
       "10929    449.900 TL  Audi     A4          A4 Sedan 1.9 TDI  2005  547.000 km   \n",
       "10930  1.250.000 TL  Audi     A3  A3 Sedan 1.6 TDI Dynamic  2017   13.850 km   \n",
       "10931  1.759.000 TL  Audi     A4         A4 Sedan 1.4 TFSI  2017   86.996 km   \n",
       "10932  1.580.000 TL  Audi     A6          A6 Sedan 2.0 TDI  2013  260.000 km   \n",
       "\n",
       "           VitesTipi     YakıtTipi     KasaTipi MotorHacmi MotorGücü  \\\n",
       "0                Düz  LPG & Benzin        Sedan    1368 cc     77 hp   \n",
       "1                Düz        Benzin  Hatchback/5    1368 cc     95 hp   \n",
       "2                Düz  LPG & Benzin        Sedan    1368 cc     95 hp   \n",
       "3                Düz         Dizel        Sedan    1248 cc     95 hp   \n",
       "4                Düz        Benzin        Sedan    1368 cc     95 hp   \n",
       "...              ...           ...          ...        ...       ...   \n",
       "10928            Düz  LPG & Benzin        Sedan    1781 cc    150 hp   \n",
       "10929       Otomatik         Dizel        Sedan    1896 cc    130 hp   \n",
       "10930  Yarı Otomatik         Dizel        Sedan    1598 cc    116 hp   \n",
       "10931  Yarı Otomatik        Benzin        Sedan    1395 cc    150 hp   \n",
       "10932       Otomatik         Dizel        Sedan    1968 cc    177 hp   \n",
       "\n",
       "               Çekiş  \n",
       "0        Önden Çekiş  \n",
       "1        Önden Çekiş  \n",
       "2        Önden Çekiş  \n",
       "3        Önden Çekiş  \n",
       "4        Önden Çekiş  \n",
       "...              ...  \n",
       "10928  4WD (Sürekli)  \n",
       "10929    Önden Çekiş  \n",
       "10930    Önden Çekiş  \n",
       "10931    Önden Çekiş  \n",
       "10932    Önden Çekiş  \n",
       "\n",
       "[10933 rows x 12 columns]"
      ]
     },
     "execution_count": 270,
     "metadata": {},
     "output_type": "execute_result"
    }
   ],
   "source": [
    "df=df[(df['Marka'] != 'Marka') & (df['Marka']!= 'nan')]\n",
    "df.reset_index(drop=True, inplace=True)\n",
    "df"
   ]
  },
  {
   "cell_type": "code",
   "execution_count": 271,
   "id": "33c49f4b-59aa-414b-8e87-a49d78fd8b29",
   "metadata": {},
   "outputs": [
    {
     "name": "stderr",
     "output_type": "stream",
     "text": [
      "C:\\Windows\\Temp\\ipykernel_4616\\4209913755.py:12: SettingWithCopyWarning: \n",
      "A value is trying to be set on a copy of a slice from a DataFrame.\n",
      "Try using .loc[row_indexer,col_indexer] = value instead\n",
      "\n",
      "See the caveats in the documentation: https://pandas.pydata.org/pandas-docs/stable/user_guide/indexing.html#returning-a-view-versus-a-copy\n",
      "  df[\"Fiyat\"]=converted_array\n"
     ]
    }
   ],
   "source": [
    "#İlk sütun için\n",
    "import numpy as np\n",
    "array = df[\"Fiyat\"].values\n",
    "def convert_to_float(value):\n",
    "    try:\n",
    "        return int(value.replace(' TL', '').replace('.', ''))\n",
    "    except:\n",
    "        return None\n",
    "\n",
    "converted_array = [convert_to_float(item) for item in array]\n",
    "\n",
    "df[\"Fiyat\"]=converted_array"
   ]
  },
  {
   "cell_type": "code",
   "execution_count": 272,
   "id": "bcc3b062-97e2-4897-bb4d-1a6acdaee757",
   "metadata": {},
   "outputs": [
    {
     "name": "stdout",
     "output_type": "stream",
     "text": [
      "<class 'pandas.core.frame.DataFrame'>\n",
      "RangeIndex: 10933 entries, 0 to 10932\n",
      "Data columns (total 12 columns):\n",
      " #   Column      Non-Null Count  Dtype \n",
      "---  ------      --------------  ----- \n",
      " 0   Fiyat       10933 non-null  int64 \n",
      " 1   Marka       10930 non-null  object\n",
      " 2   Seri        10930 non-null  object\n",
      " 3   Model       10930 non-null  object\n",
      " 4   Yıl         10930 non-null  object\n",
      " 5   Kilometre   10930 non-null  object\n",
      " 6   VitesTipi   10930 non-null  object\n",
      " 7   YakıtTipi   10930 non-null  object\n",
      " 8   KasaTipi    10930 non-null  object\n",
      " 9   MotorHacmi  10930 non-null  object\n",
      " 10  MotorGücü   10929 non-null  object\n",
      " 11  Çekiş       10840 non-null  object\n",
      "dtypes: int64(1), object(11)\n",
      "memory usage: 1.0+ MB\n"
     ]
    }
   ],
   "source": [
    "df[\"Fiyat\"].isnull().sum()\n",
    "df.info()"
   ]
  },
  {
   "cell_type": "code",
   "execution_count": 273,
   "id": "a9013afd-8ff2-4bb4-ac0c-82087a49f57a",
   "metadata": {},
   "outputs": [
    {
     "name": "stdout",
     "output_type": "stream",
     "text": [
      "<class 'pandas.core.frame.DataFrame'>\n",
      "Int64Index: 10930 entries, 0 to 10932\n",
      "Data columns (total 12 columns):\n",
      " #   Column      Non-Null Count  Dtype \n",
      "---  ------      --------------  ----- \n",
      " 0   Fiyat       10930 non-null  int64 \n",
      " 1   Marka       10930 non-null  object\n",
      " 2   Seri        10930 non-null  object\n",
      " 3   Model       10930 non-null  object\n",
      " 4   Yıl         10930 non-null  object\n",
      " 5   Kilometre   10930 non-null  object\n",
      " 6   VitesTipi   10930 non-null  object\n",
      " 7   YakıtTipi   10930 non-null  object\n",
      " 8   KasaTipi    10930 non-null  object\n",
      " 9   MotorHacmi  10930 non-null  object\n",
      " 10  MotorGücü   10929 non-null  object\n",
      " 11  Çekiş       10840 non-null  object\n",
      "dtypes: int64(1), object(11)\n",
      "memory usage: 1.1+ MB\n"
     ]
    }
   ],
   "source": [
    "df = df[df[\"Marka\"].notnull()]\n",
    "df.info()"
   ]
  },
  {
   "cell_type": "code",
   "execution_count": 274,
   "id": "dbf0e787-8052-4dc1-9147-fb790d4821b0",
   "metadata": {},
   "outputs": [
    {
     "data": {
      "text/plain": [
       "array(['2014', '2018', '2016', '2017', '2020', '2013', '2023', '2015',\n",
       "       '2009', '2019', '2012', '2022', '2021', '2001', '2011', '1998',\n",
       "       '2008', '1999', '2010', '2007', '2004', '1991', '2000', '2003',\n",
       "       '1993', '2006', '1996', '1997', '1994', '1995', '2005', '1990',\n",
       "       '2002', '1992', '1988', '1989', '82.500 km', '1976', '15.000 km',\n",
       "       '1987', '121.000 km', '66.000 km', '1985', '1974', '77.426 km',\n",
       "       '77.000 km', '145.000 km', '1973', '1984', '1986', '133.000 km',\n",
       "       '195.000 km', '183.000 km', '225.000 km', '95.000 km',\n",
       "       '200.000 km', '135.000 km', '120.000 km', '100.000 km', '1980',\n",
       "       '1981', '1972', '1983', '1982', '335.000 km', '1960', '6.001 km',\n",
       "       '192.000 km', '76.555 km', '101.700 km', '112.000 km',\n",
       "       '251.000 km', '360.000 km'], dtype=object)"
      ]
     },
     "execution_count": 274,
     "metadata": {},
     "output_type": "execute_result"
    }
   ],
   "source": [
    "df[\"Yıl\"].unique()"
   ]
  },
  {
   "cell_type": "code",
   "execution_count": 275,
   "id": "3ecb2652-efe5-4bdd-a2f7-4fb85b09e857",
   "metadata": {},
   "outputs": [
    {
     "name": "stdout",
     "output_type": "stream",
     "text": [
      "<class 'pandas.core.frame.DataFrame'>\n",
      "Int64Index: 10930 entries, 0 to 10932\n",
      "Data columns (total 12 columns):\n",
      " #   Column      Non-Null Count  Dtype \n",
      "---  ------      --------------  ----- \n",
      " 0   Fiyat       10930 non-null  int64 \n",
      " 1   Marka       10930 non-null  object\n",
      " 2   Seri        10930 non-null  object\n",
      " 3   Model       10930 non-null  object\n",
      " 4   Yıl         10905 non-null  Int64 \n",
      " 5   Kilometre   10930 non-null  object\n",
      " 6   VitesTipi   10930 non-null  object\n",
      " 7   YakıtTipi   10930 non-null  object\n",
      " 8   KasaTipi    10930 non-null  object\n",
      " 9   MotorHacmi  10930 non-null  object\n",
      " 10  MotorGücü   10929 non-null  object\n",
      " 11  Çekiş       10840 non-null  object\n",
      "dtypes: Int64(1), int64(1), object(10)\n",
      "memory usage: 1.1+ MB\n"
     ]
    },
    {
     "name": "stderr",
     "output_type": "stream",
     "text": [
      "C:\\Windows\\Temp\\ipykernel_4616\\2889739904.py:3: SettingWithCopyWarning: \n",
      "A value is trying to be set on a copy of a slice from a DataFrame.\n",
      "Try using .loc[row_indexer,col_indexer] = value instead\n",
      "\n",
      "See the caveats in the documentation: https://pandas.pydata.org/pandas-docs/stable/user_guide/indexing.html#returning-a-view-versus-a-copy\n",
      "  df[\"Yıl\"] = pd.to_numeric(df[\"Yıl\"], errors='coerce').astype('Int64')\n"
     ]
    }
   ],
   "source": [
    "#Yıl sütunu içi aykırı değerlerin ayıklanması ve veri tipi dönüşümü\n",
    "df[\"Yıl\"].unique()\n",
    "unwanted_strings = ['82.500 km', '15.000 km', '121.000 km', '66.000 km', '77.426 km', '77.000 km', '145.000 km', '133.000 km','195.000 km','183.000 km','225.000 km', '95.000 km','200.000 km', '135.000 km', '120.000 km', '100.000 km','335.000 km','6.001 km','192.000 km', '76.555 km', '101.700 km', '112.000 km','251.000 km', '360.000 km']\n",
    "df.loc[df[\"Yıl\"].isin(unwanted_strings), \"Yıl\"] = None\n",
    "df[\"Yıl\"] = pd.to_numeric(df[\"Yıl\"], errors='coerce').astype('Int64')\n",
    "df.info()\n"
   ]
  },
  {
   "cell_type": "code",
   "execution_count": 276,
   "id": "60c581ed-c8f8-4246-a603-ed0678e08f6f",
   "metadata": {},
   "outputs": [
    {
     "name": "stderr",
     "output_type": "stream",
     "text": [
      "C:\\Windows\\Temp\\ipykernel_4616\\3577349755.py:10: SettingWithCopyWarning: \n",
      "A value is trying to be set on a copy of a slice from a DataFrame.\n",
      "Try using .loc[row_indexer,col_indexer] = value instead\n",
      "\n",
      "See the caveats in the documentation: https://pandas.pydata.org/pandas-docs/stable/user_guide/indexing.html#returning-a-view-versus-a-copy\n",
      "  df[\"Kilometre\"] = converted_array\n"
     ]
    },
    {
     "data": {
      "text/plain": [
       "array([117000., 144000., 110000., ..., 547000.,  13850.,  86996.])"
      ]
     },
     "execution_count": 276,
     "metadata": {},
     "output_type": "execute_result"
    }
   ],
   "source": [
    "array = df[\"Kilometre\"].values\n",
    "\n",
    "def convert_to_int(value):\n",
    "    try:\n",
    "        return int(value.replace(\" km\", \"\").replace(\".\", \"\").strip())\n",
    "    except:\n",
    "        return None\n",
    "\n",
    "converted_array = [convert_to_int(item) for item in array]\n",
    "df[\"Kilometre\"] = converted_array\n",
    "df[\"Kilometre\"].unique()"
   ]
  },
  {
   "cell_type": "code",
   "execution_count": 277,
   "id": "3fdd3e14-a5dc-430f-b632-79e6f9162fad",
   "metadata": {},
   "outputs": [
    {
     "data": {
      "text/plain": [
       "array(['Düz', 'Yarı Otomatik', 'Otomatik', 'LPG & Benzin', 'Benzin',\n",
       "       'Dizel'], dtype=object)"
      ]
     },
     "execution_count": 277,
     "metadata": {},
     "output_type": "execute_result"
    }
   ],
   "source": [
    "df[\"VitesTipi\"].unique()"
   ]
  },
  {
   "cell_type": "code",
   "execution_count": 278,
   "id": "311e1c2e-ceda-420d-8a3d-07b774ddd5a8",
   "metadata": {},
   "outputs": [],
   "source": [
    "for index, row in df.iterrows():\n",
    "    if row[\"VitesTipi\"] in ['Benzin', 'Dizel', 'LPG & Benzin']:\n",
    "        df.loc[index, \"VitesTipi\"] = None"
   ]
  },
  {
   "cell_type": "code",
   "execution_count": 279,
   "id": "f7e2d39c-cc4d-497b-8762-502dc162f04e",
   "metadata": {},
   "outputs": [
    {
     "name": "stdout",
     "output_type": "stream",
     "text": [
      "<class 'pandas.core.frame.DataFrame'>\n",
      "Int64Index: 10930 entries, 0 to 10932\n",
      "Data columns (total 12 columns):\n",
      " #   Column      Non-Null Count  Dtype  \n",
      "---  ------      --------------  -----  \n",
      " 0   Fiyat       10930 non-null  int64  \n",
      " 1   Marka       10930 non-null  object \n",
      " 2   Seri        10930 non-null  object \n",
      " 3   Model       10930 non-null  object \n",
      " 4   Yıl         10905 non-null  Int64  \n",
      " 5   Kilometre   10905 non-null  float64\n",
      " 6   VitesTipi   10905 non-null  object \n",
      " 7   YakıtTipi   10930 non-null  object \n",
      " 8   KasaTipi    10930 non-null  object \n",
      " 9   MotorHacmi  10930 non-null  object \n",
      " 10  MotorGücü   10929 non-null  object \n",
      " 11  Çekiş       10840 non-null  object \n",
      "dtypes: Int64(1), float64(1), int64(1), object(9)\n",
      "memory usage: 1.3+ MB\n",
      "None\n"
     ]
    },
    {
     "data": {
      "text/plain": [
       "array(['LPG & Benzin', 'Benzin', 'Dizel', 'Elektrik', 'Sedan', 'Hibrit',\n",
       "       'Hatchback/5', 'Coupe'], dtype=object)"
      ]
     },
     "execution_count": 279,
     "metadata": {},
     "output_type": "execute_result"
    }
   ],
   "source": [
    "print(df.info())\n",
    "df[\"YakıtTipi\"].unique()"
   ]
  },
  {
   "cell_type": "code",
   "execution_count": 280,
   "id": "55c43484-7887-4924-88db-7649dbb9b342",
   "metadata": {},
   "outputs": [
    {
     "name": "stdout",
     "output_type": "stream",
     "text": [
      "<class 'pandas.core.frame.DataFrame'>\n",
      "Int64Index: 10930 entries, 0 to 10932\n",
      "Data columns (total 12 columns):\n",
      " #   Column      Non-Null Count  Dtype  \n",
      "---  ------      --------------  -----  \n",
      " 0   Fiyat       10930 non-null  int64  \n",
      " 1   Marka       10930 non-null  object \n",
      " 2   Seri        10930 non-null  object \n",
      " 3   Model       10930 non-null  object \n",
      " 4   Yıl         10905 non-null  Int64  \n",
      " 5   Kilometre   10905 non-null  float64\n",
      " 6   VitesTipi   10905 non-null  object \n",
      " 7   YakıtTipi   10905 non-null  object \n",
      " 8   KasaTipi    10930 non-null  object \n",
      " 9   MotorHacmi  10930 non-null  object \n",
      " 10  MotorGücü   10929 non-null  object \n",
      " 11  Çekiş       10840 non-null  object \n",
      "dtypes: Int64(1), float64(1), int64(1), object(9)\n",
      "memory usage: 1.3+ MB\n"
     ]
    },
    {
     "name": "stderr",
     "output_type": "stream",
     "text": [
      "C:\\Windows\\Temp\\ipykernel_4616\\990153661.py:2: SettingWithCopyWarning: \n",
      "A value is trying to be set on a copy of a slice from a DataFrame.\n",
      "Try using .loc[row_indexer,col_indexer] = value instead\n",
      "\n",
      "See the caveats in the documentation: https://pandas.pydata.org/pandas-docs/stable/user_guide/indexing.html#returning-a-view-versus-a-copy\n",
      "  df['YakıtTipi'] = np.where(conditions, None, df['YakıtTipi'])\n"
     ]
    },
    {
     "data": {
      "text/plain": [
       "array(['Sedan', 'Hatchback/5', 'MPV', 'Hatchback/3', 'Station wagon',\n",
       "       'Cabrio', '1239 cc', 'Belirtilmemiş', 'Coupe', '-', 'Roadster',\n",
       "       'Pick-up', 'SUV', '3605 cc', '2706 cc', '3001 - 3500 cm3',\n",
       "       'Tamamı orjinal'], dtype=object)"
      ]
     },
     "execution_count": 280,
     "metadata": {},
     "output_type": "execute_result"
    }
   ],
   "source": [
    "conditions = (df['YakıtTipi'] == 'Hatchback/5') | (df['YakıtTipi'] == 'Sedan') | (df['YakıtTipi'] == 'Coupe')\n",
    "df['YakıtTipi'] = np.where(conditions, None, df['YakıtTipi'])\n",
    "df.info()\n",
    "df[\"KasaTipi\"].unique()"
   ]
  },
  {
   "cell_type": "code",
   "execution_count": 281,
   "id": "2d7ecc3b-8760-41d6-b6b6-d2fee51c841d",
   "metadata": {},
   "outputs": [
    {
     "name": "stderr",
     "output_type": "stream",
     "text": [
      "C:\\Windows\\Temp\\ipykernel_4616\\257485469.py:10: SettingWithCopyWarning: \n",
      "A value is trying to be set on a copy of a slice from a DataFrame.\n",
      "Try using .loc[row_indexer,col_indexer] = value instead\n",
      "\n",
      "See the caveats in the documentation: https://pandas.pydata.org/pandas-docs/stable/user_guide/indexing.html#returning-a-view-versus-a-copy\n",
      "  df['KasaTipi'] = np.where(conditions, None, df['KasaTipi'])\n"
     ]
    }
   ],
   "source": [
    "conditions = (\n",
    "    (df['KasaTipi'] == '1239 cc') |\n",
    "    (df['KasaTipi'] == '-') |\n",
    "    (df['KasaTipi'] == 'Belirtilmemiş') |\n",
    "    (df['KasaTipi'] == '3605 cc') |\n",
    "    (df['KasaTipi'] == '2706 cc') |\n",
    "    (df['KasaTipi'] == '3001 - 3500 cm3') |\n",
    "    (df['KasaTipi'] == 'Tamamı orjinal')\n",
    ")\n",
    "df['KasaTipi'] = np.where(conditions, None, df['KasaTipi'])\n"
   ]
  },
  {
   "cell_type": "code",
   "execution_count": 282,
   "id": "8686d620-eb6a-46cc-abd0-23c3503a7bed",
   "metadata": {},
   "outputs": [
    {
     "data": {
      "text/plain": [
       "array(['1368 cc', '1248 cc', '1242 cc', '1598 cc', '1581 cc',\n",
       "       '1401 - 1600 cm3', '1596 cc', 'Belirtilmemiş', '-', '1580 cc',\n",
       "       '1372 cc', '1995 cc', '3 değişen, 5 boyalı', '999 cc',\n",
       "       '1201 - 1400 cm3', '1 değişen', \"1200 cm3' e kadar\", '1400 cc',\n",
       "       'Tamamı orjinal', 'Önden Çekiş', '76 - 100 HP', '1601 - 1800 cm3',\n",
       "       '3 boyalı', '1600 cc', 'Arkadan İtiş', '65 hp', '1239 cc',\n",
       "       '1297 cc', '2 değişen, 3 boyalı', '2 değişen', '101 - 125 HP',\n",
       "       'Sahibinden', '2 değişen, 2 boyalı', '5 değişen', '1461 cc',\n",
       "       '1397 cc', '998 cc', '1390 cc', '898 cc', '1565 cc', '1333 cc',\n",
       "       '1332 cc', '110 cc', '1149 cc', '1197 cc', '1 değişen, 1 boyalı',\n",
       "       '1948 cc', '1998 cc', '1870 cc', '1198 cc', '1300 cc', '1499 cc',\n",
       "       '2996 cc', '1496 cc', '1597 cc', '1592 cc', '2926 cc', '1796 cc',\n",
       "       '2993 cc', '1595 cc', '1991 cc', '1801 - 2000 cm3', '1766 cc',\n",
       "       '3982 cc', '2171 cc', '1997 cc', '4398 cc', '2001 - 2500 cm3',\n",
       "       '1895 cc', '2979 cc', '2494 cc', '170 cc', '2501 - 3000 cm3',\n",
       "       '2497 cc', '1951 cc', '3600 cc', '2998 cc', '1364 cc', '1329 cc',\n",
       "       '1798 cc', '1587 cc', '1298 cc', '1490 cc', '1 değişen, 12 boyalı',\n",
       "       '1295 cc', '1398 cc', '1296 cc', '1365 cc', '1800 cc', '133 cc',\n",
       "       '1299 cc', '2231 cc', '1388 cc', '1498 cc', '1560 cc', '1500 cc',\n",
       "       '1753 cc', '1399 cc', '1497 cc', '2 değişen, 8 boyalı', '1999 cc',\n",
       "       '4601 cc', '1988 cc', '1993 cc', '1084 cc', '5409 cc', '1283 cc',\n",
       "       '2 değişen, 5 boyalı', '1 boyalı', '1199 cc', '1389 cc', '1488 cc',\n",
       "       '1229 cc', '1700 cc', '1956 cc', '1342 cc', '1686 cc', '973 cc',\n",
       "       '2198 cc', '3501 - 4000 cm3', '1994 cc', '1360 cc', '2946 cc',\n",
       "       '954 cc', '2230 cc', '1761 cc', '2 değişen, 9 boyalı',\n",
       "       '3 değişen, 9 boyalı', '4 boyalı', '1905 cc', '1361 cc', '2799 cc',\n",
       "       '2143 cc', '2685 cc', '1462 cc', '156 cc', '265 cc', '5461 cc',\n",
       "       '1950 cc', '3222 cc', '3199 cc', '2987 cc', '5980 cc', '2148 cc',\n",
       "       '2299 cc', '1799 cc', '2000 cc', '2925 cc', '5001 - 5500 cm3',\n",
       "       '1992 cc', '163 cc', '3498 cc', '2597 cc', '2999 cc',\n",
       "       '551 - 575 HP', '5513 cc', '2151 cc', '3001 - 3500 cm3', '4520 cc',\n",
       "       '1590 cc', '1339 cc', '1396 cc', '1493 cc', '9 boyalı', '1318 cc',\n",
       "       '2204 cc', '1582 cc', '1495 cc', '1599 cc', '1086 cc', '1341 cc',\n",
       "       '12 boyalı', '1591 cc', '1468 cc', '3778 cc', '2656 cc',\n",
       "       '7 boyalı', '51 - 75 HP', '1996 cc', '2736 cc', '3518 cc',\n",
       "       '2429 cc', '1968 cc', '1395 cc', '1422 cc', '1896 cc', '1781 cc',\n",
       "       '2 boyalı', '1 değişen, 6 boyalı', '1984 cc', '1970 cc', '1715 cc',\n",
       "       '1370 cc', '2891 cc', '1910 cc', '1859 cc', '1712 cc', '1711 cc',\n",
       "       '1289 cc', '1527 cc', '2179 cc', '90 cc', '4 değişen, 1 boyalı',\n",
       "       '1240 cc', '1348 cc', '3799 cc', '1275 cc', '1386 cc', '1974 cc',\n",
       "       '176 - 200 HP', '1769 cc', 'Takasa Uygun Değil', '2400 cc',\n",
       "       '1969 cc', '1783 cc', '2401 cc', '1721 cc', '151 - 175 HP',\n",
       "       '1784 cc', '2922 cc', '1 değişen, 2 boyalı', '1731 cc', '2783 cc',\n",
       "       '2435 cc', '1 değişen, 5 boyalı', 'Tamamı boyalı', '6 boyalı',\n",
       "       '1594 cc', '1353 cc', '2903 cc', '1367 cc', '1120 cc', '1685 cc',\n",
       "       '1324 cc', '1343 cc', '1 değişen, 3 boyalı', '3497 cc', '2088 cc',\n",
       "       '875 cc', '1150 cc', '5666 cc', '1391 cc', '1206 cc', '796 cc',\n",
       "       '5 boyalı', '6162 cc', '5733 cc', '995 cc', '3640 cc',\n",
       "       '4501 - 5000 cm3', '2894 cc', '3800 cc', '2995 cc', '2967 cc',\n",
       "       '300 hp', '3996 cc', '3824 cc', '2981 cc', '3436 cc', '275 hp',\n",
       "       '301 - 325 HP', '4806 cc', '2990 cc', '1193 cc', '1584 cc',\n",
       "       '1755 cc', '1834 cc', '5935 cc', '4300 cc', '1328 cc', '1586 cc',\n",
       "       '993 cc', '1061 cc', '996 cc', '1839 cc', '1288 cc', '1294 cc',\n",
       "       '658 cc', '997 cc', '2457 cc', '1820 cc', '1189 cc', '1840 cc',\n",
       "       '1489 cc', '1308 cc', '1576 cc', '1349 cc', '2 değişen, 10 boyalı',\n",
       "       '1985 cc', '1589 cc', '989 cc', '1588 cc', '605 cc', '2698 cc',\n",
       "       '2671 cc', '4134 cc', '2496 cc', '4163 cc', '2393 cc',\n",
       "       '4WD (Sürekli)', '4172 cc', '3993 cc'], dtype=object)"
      ]
     },
     "execution_count": 282,
     "metadata": {},
     "output_type": "execute_result"
    }
   ],
   "source": [
    "df[\"MotorHacmi\"].unique()"
   ]
  },
  {
   "cell_type": "code",
   "execution_count": 283,
   "id": "ca36e017-eefc-4a6b-934f-5de1c0b8fd1e",
   "metadata": {},
   "outputs": [
    {
     "name": "stdout",
     "output_type": "stream",
     "text": [
      "<class 'pandas.core.frame.DataFrame'>\n",
      "Int64Index: 10930 entries, 0 to 10932\n",
      "Data columns (total 12 columns):\n",
      " #   Column      Non-Null Count  Dtype  \n",
      "---  ------      --------------  -----  \n",
      " 0   Fiyat       10930 non-null  int64  \n",
      " 1   Marka       10930 non-null  object \n",
      " 2   Seri        10930 non-null  object \n",
      " 3   Model       10930 non-null  object \n",
      " 4   Yıl         10905 non-null  Int64  \n",
      " 5   Kilometre   10905 non-null  float64\n",
      " 6   VitesTipi   10905 non-null  object \n",
      " 7   YakıtTipi   10905 non-null  object \n",
      " 8   KasaTipi    10871 non-null  object \n",
      " 9   MotorHacmi  10437 non-null  float64\n",
      " 10  MotorGücü   10929 non-null  object \n",
      " 11  Çekiş       10840 non-null  object \n",
      "dtypes: Int64(1), float64(2), int64(1), object(8)\n",
      "memory usage: 1.3+ MB\n"
     ]
    },
    {
     "name": "stderr",
     "output_type": "stream",
     "text": [
      "C:\\Windows\\Temp\\ipykernel_4616\\74688763.py:11: SettingWithCopyWarning: \n",
      "A value is trying to be set on a copy of a slice from a DataFrame.\n",
      "Try using .loc[row_indexer,col_indexer] = value instead\n",
      "\n",
      "See the caveats in the documentation: https://pandas.pydata.org/pandas-docs/stable/user_guide/indexing.html#returning-a-view-versus-a-copy\n",
      "  df[\"MotorHacmi\"]=converted_array\n"
     ]
    }
   ],
   "source": [
    "unwanted_strings = ['1401 - 1600 cm3', 'Belirtilmemiş', '-','3 değişen, 5 boyalı','1201 - 1400 cm3', '1 değişen', \"1200 cm3' e kadar\",'Tamamı orjinal', 'Önden Çekiş', '76 - 100 HP', '1601 - 1800 cm3','3 boyalı','Arkadan İtiş', '65 hp','Arkadan İtiş', '65 hp','2 değişen, 3 boyalı', '2 değişen', '101 - 125 HP','Sahibinden', '2 değişen, 2 boyalı', '5 değişen','1 değişen, 1 boyalı','1801 - 2000 cm3','2001 - 2500 cm3','2501 - 3000 cm3','1 değişen, 12 boyalı','2 değişen, 8 boyalı','2 değişen, 5 boyalı', '1 boyalı', '3501 - 4000 cm3','2 değişen, 9 boyalı','3 değişen, 9 boyalı', '4 boyalı','5001 - 5500 cm3','551 - 575 HP','3001 - 3500 cm3','9 boyalı','12 boyalı','7 boyalı', '51 - 75 HP','2 boyalı', '1 değişen, 6 boyalı','4 değişen, 1 boyalı','176 - 200 HP','Takasa Uygun Değil','151 - 175 HP','1 değişen, 2 boyalı','1 değişen, 5 boyalı', 'Tamamı boyalı','6 boyalı','1 değişen, 3 boyalı','5 boyalı','4501 - 5000 cm3','300 hp','275 hp','301 - 325 HP','2 değişen, 10 boyalı','4WD (Sürekli)',]\n",
    "df.loc[df[\"MotorHacmi\"].isin(unwanted_strings), \"MotorHacmi\"] = None\n",
    "array = df[\"MotorHacmi\"].values\n",
    "def convert_to_int(value):\n",
    "    try:\n",
    "        return int(value.split(' ')[0])\n",
    "    except:\n",
    "        return None\n",
    "\n",
    "converted_array = [convert_to_int(item) for item in array]\n",
    "df[\"MotorHacmi\"]=converted_array\n",
    "df.info()"
   ]
  },
  {
   "cell_type": "code",
   "execution_count": 284,
   "id": "b6d2a45d-a761-4c45-b99f-039425386e4f",
   "metadata": {},
   "outputs": [
    {
     "data": {
      "text/plain": [
       "array(['77 hp', '95 hp', '69 hp', '105 hp', '120 hp', '100 hp',\n",
       "       '76 - 100 HP', '90 hp', '70 hp', '74 hp', '103 hp', 'Sahibinden',\n",
       "       '-', '101 hp', '101 - 125 HP', '75 hp', '71 hp', '113 hp', '80 hp',\n",
       "       '81 hp', '51 - 75 HP', '60 hp', '78 hp', 'Takasa Uygun',\n",
       "       'Tamamı orjinal', '85 hp', '110 hp', '118 hp', 'Önden Çekiş',\n",
       "       '130 hp', '83 hp', '126 - 150 HP', 'Belirtilmemiş', 'Arkadan İtiş',\n",
       "       '151 - 175 HP', '96 hp', '601 HP ve üzeri', '65 hp',\n",
       "       'Takasa Uygun Değil', \"50 HP'ye kadar\", nan, '2 boyalı', '107 hp',\n",
       "       '72 hp', '115 hp', '98 hp', '140 hp', '1600 hp', '106 hp', '86 hp',\n",
       "       '139 hp', '165 hp', '67 hp', '58 hp', '55 hp', '68 hp', '54 hp',\n",
       "       '170 hp', '190 hp', '136 hp', '218 hp', '116 hp', '143 hp',\n",
       "       '258 hp', '193 hp', '177 hp', '184 hp', '252 hp', '102 hp',\n",
       "       '122 hp', '313 hp', '150 hp', '176 - 200 HP', '245 hp', '163 hp',\n",
       "       '286 hp', '231 hp', '306 hp', '381 hp', '544 hp', '333 hp',\n",
       "       '265 hp', '156 hp', '201 - 225 HP', '99 hp', '192 hp', '320 hp',\n",
       "       '272 hp', '340 hp', '87 hp', '132 hp', '125 hp', '126 hp', '88 hp',\n",
       "       '97 hp', '112 hp', '124 hp', '147 hp', '114 hp', '111 hp',\n",
       "       '160 hp', '123 hp', '82 hp', '180 hp', '145 hp', '500 hp',\n",
       "       '210 hp', '220 hp', '276 - 300 HP', '175 hp', '93 hp', '117 hp',\n",
       "       '76 hp', '91 hp', '109 hp', '138 hp', '51 hp', '158 hp', '166 hp',\n",
       "       '137 hp', '1 değişen, 2 boyalı', '73 hp', '134 hp', '225 hp',\n",
       "       '211 hp', '152 hp', '89 hp', '182 hp', '46 hp', '149 hp', '178 hp',\n",
       "       '204 hp', '186 hp', '3000 hp', '585 hp', '194 hp', '224 hp',\n",
       "       '612 hp', '292 hp', '330 hp', '376 - 400 HP', '94 hp', '13300 hp',\n",
       "       '226 - 250 HP', '501 - 525 HP', '435 hp', '843 hp', '299 hp',\n",
       "       '451 - 475 HP', '129 hp', '658 hp', '510 hp', '251 - 275 HP',\n",
       "       '235 hp', '503 hp', '121 hp', '240 hp', '200 hp', '92 hp', '84 hp',\n",
       "       '128 hp', '131 hp', '66 hp', '108 hp', '135 hp', '127 hp', '63 hp',\n",
       "       '6 boyalı', '290 hp', '173 hp', '141 hp', '203 hp', '155 hp',\n",
       "       '57 hp', '64 hp', '62 hp', '1200 hp', '485 hp', '79 hp', '185 hp',\n",
       "       '181 hp', '215 hp', '250 hp', '1 boyalı', '205 hp', '144 hp',\n",
       "       '244 hp', '133 hp', '344 hp', '1 değişen, 12 boyalı', '52 hp',\n",
       "       '436 hp', '275 hp', '426 - 450 HP', '324 hp', '335 hp',\n",
       "       '301 - 325 HP', '400 hp', '300 hp', '580 hp', '326 - 350 HP',\n",
       "       '761 hp', '355 hp', '385 hp', '571 hp', '450 hp', '680 hp',\n",
       "       '345 hp', '560 hp', '551 - 575 HP', '530 hp', '430 hp',\n",
       "       '401 - 425 HP', '53 hp', '45 hp', '41 hp', '44 hp', '280 hp',\n",
       "       '56 hp', '4000 hp', '350 hp', '310 hp', '576 - 600 HP', '142 hp',\n",
       "       '285 hp', '233 hp', '262 hp', '230 hp', '520 hp'], dtype=object)"
      ]
     },
     "execution_count": 284,
     "metadata": {},
     "output_type": "execute_result"
    }
   ],
   "source": [
    "df[\"MotorGücü\"].unique()"
   ]
  },
  {
   "cell_type": "code",
   "execution_count": 285,
   "id": "ad2af8c8-72e7-484e-a9ff-502131757204",
   "metadata": {},
   "outputs": [
    {
     "name": "stderr",
     "output_type": "stream",
     "text": [
      "C:\\Windows\\Temp\\ipykernel_4616\\373381292.py:27: SettingWithCopyWarning: \n",
      "A value is trying to be set on a copy of a slice from a DataFrame.\n",
      "Try using .loc[row_indexer,col_indexer] = value instead\n",
      "\n",
      "See the caveats in the documentation: https://pandas.pydata.org/pandas-docs/stable/user_guide/indexing.html#returning-a-view-versus-a-copy\n",
      "  df[\"MotorGücü\"] = df[\"MotorGücü\"].replace(replacement_values)\n",
      "C:\\Windows\\Temp\\ipykernel_4616\\373381292.py:39: SettingWithCopyWarning: \n",
      "A value is trying to be set on a copy of a slice from a DataFrame.\n",
      "Try using .loc[row_indexer,col_indexer] = value instead\n",
      "\n",
      "See the caveats in the documentation: https://pandas.pydata.org/pandas-docs/stable/user_guide/indexing.html#returning-a-view-versus-a-copy\n",
      "  df[\"MotorGücü\"]=converted_array\n"
     ]
    }
   ],
   "source": [
    "#df[10]\n",
    "replacement_values = {\n",
    "    '576 - 600 HP':'588 hp',\n",
    "    '401 - 425 HP':'413 hp',\n",
    "    '551 - 575 HP':'563 hp',\n",
    "    '326 - 350 HP':'338 hp',\n",
    "    '251 - 275 HP':'263 hp',\n",
    "    '451 - 475 HP':'463 hp',\n",
    "    '501 - 525 HP': '513 hp',\n",
    "    '226 - 250 HP': '238 hp ',\n",
    "    '376 - 400 HP': '388 hp',\n",
    "    '276 - 300 HP': '288 hp',\n",
    "    '201 - 225 HP': '213 hp',\n",
    "    '51 - 75 HP': '63 hp',\n",
    "    '151 - 175 HP': '163 hp',\n",
    "    '101 - 125 HP': '113 hp',\n",
    "    '176 - 200 HP': '188 hp',\n",
    "    '76 - 100 HP': '88 hp',\n",
    "    '426 - 450 HP': '435 hp',\n",
    "    '126 - 150 HP': '138 hp',\n",
    "    '601 HP ve üzeri': '610 hp',\n",
    "    '301 - 325 HP': '313 hp',\n",
    "    '476 - 500 HP': '488 hp',\n",
    "    \"50 HP'ye kadar\": '50'\n",
    "}\n",
    "\n",
    "df[\"MotorGücü\"] = df[\"MotorGücü\"].replace(replacement_values)\n",
    "unwanted_strings = ['Sahibinden', '-', 'Takasa Uygun','Tamamı orjinal','Önden Çekiş','Belirtilmemiş', 'Arkadan İtiş','Takasa Uygun Değil','2 boyalı','1 değişen, 2 boyalı','6 boyalı','1 boyalı','1 değişen, 12 boyalı',]\n",
    "df.loc[df[\"MotorGücü\"].isin(unwanted_strings), \"MotorGücü\"] = None\n",
    "array = df[\"MotorGücü\"].values\n",
    "\n",
    "def convert_to_int(value):\n",
    "    try:\n",
    "        return int(value.split(' ')[0])\n",
    "    except:\n",
    "        return None\n",
    "\n",
    "converted_array = [convert_to_int(item) for item in array]\n",
    "df[\"MotorGücü\"]=converted_array"
   ]
  },
  {
   "cell_type": "code",
   "execution_count": 286,
   "id": "dc74e579-0d4b-49d5-b5fe-3b3cd2352a63",
   "metadata": {},
   "outputs": [
    {
     "data": {
      "text/plain": [
       "array(['Önden Çekiş', nan, '-', 'Sahibinden', 'Tamamı orjinal',\n",
       "       'Arkadan İtiş', '52 lt', 'Takasa Uygun Değil', '44 lt',\n",
       "       '2 değişen, 11 boyalı', '1 değişen, 12 boyalı', '4WD (Sürekli)',\n",
       "       '4,9 lt', '4,8 lt', '75 lt', 'Takasa Uygun', 'AWD (Elektronik)',\n",
       "       'Belirtilmemiş', '51 lt', '1 değişen, 2 boyalı', '6,8 lt',\n",
       "       '4,7 lt', '2 boyalı', '2 değişen, 8 boyalı', '11,3 lt', '7,7 lt',\n",
       "       'Tamamı boyalı', '32 lt', '5,8 lt'], dtype=object)"
      ]
     },
     "execution_count": 286,
     "metadata": {},
     "output_type": "execute_result"
    }
   ],
   "source": [
    "df[\"Çekiş\"].unique()"
   ]
  },
  {
   "cell_type": "code",
   "execution_count": 287,
   "id": "505b3624-944f-4780-ac92-245fd4f3727e",
   "metadata": {},
   "outputs": [
    {
     "data": {
      "text/plain": [
       "array(['Önden Çekiş', nan, None, 'Arkadan İtiş', '4WD (Sürekli)',\n",
       "       'AWD (Elektronik)'], dtype=object)"
      ]
     },
     "execution_count": 287,
     "metadata": {},
     "output_type": "execute_result"
    }
   ],
   "source": [
    "#df[11]\n",
    "unwanted_strings = ['-','Sahibinden','Tamamı orjinal','52 lt', 'Takasa Uygun Değil', '44 lt','2 değişen, 11 boyalı', '1 değişen, 12 boyalı','4,9 lt', '4,8 lt', '75 lt', 'Takasa Uygun','Belirtilmemiş', '51 lt', '1 değişen, 2 boyalı', '6,8 lt','4,7 lt', '2 boyalı', '2 değişen, 8 boyalı', '11,3 lt', '7,7 lt','Tamamı boyalı', '32 lt', '5,8 lt']\n",
    "df.loc[df[\"Çekiş\"].isin(unwanted_strings), \"Çekiş\"] = None\n",
    "df[\"Çekiş\"].unique()"
   ]
  },
  {
   "cell_type": "code",
   "execution_count": 288,
   "id": "e137e391-b3a1-42fd-9139-72e38e1c1614",
   "metadata": {},
   "outputs": [
    {
     "name": "stderr",
     "output_type": "stream",
     "text": [
      "C:\\Windows\\Temp\\ipykernel_4616\\1562776421.py:1: SettingWithCopyWarning: \n",
      "A value is trying to be set on a copy of a slice from a DataFrame.\n",
      "Try using .loc[row_indexer,col_indexer] = value instead\n",
      "\n",
      "See the caveats in the documentation: https://pandas.pydata.org/pandas-docs/stable/user_guide/indexing.html#returning-a-view-versus-a-copy\n",
      "  df['Çekiş'] = df['Çekiş'].apply(lambda x: None if pd.isna(x) else x)\n"
     ]
    },
    {
     "name": "stdout",
     "output_type": "stream",
     "text": [
      "<class 'pandas.core.frame.DataFrame'>\n",
      "Int64Index: 10930 entries, 0 to 10932\n",
      "Data columns (total 12 columns):\n",
      " #   Column      Non-Null Count  Dtype  \n",
      "---  ------      --------------  -----  \n",
      " 0   Fiyat       10930 non-null  int64  \n",
      " 1   Marka       10930 non-null  object \n",
      " 2   Seri        10930 non-null  object \n",
      " 3   Model       10930 non-null  object \n",
      " 4   Yıl         10905 non-null  Int64  \n",
      " 5   Kilometre   10905 non-null  float64\n",
      " 6   VitesTipi   10905 non-null  object \n",
      " 7   YakıtTipi   10905 non-null  object \n",
      " 8   KasaTipi    10871 non-null  object \n",
      " 9   MotorHacmi  10437 non-null  float64\n",
      " 10  MotorGücü   10597 non-null  float64\n",
      " 11  Çekiş       10590 non-null  object \n",
      "dtypes: Int64(1), float64(3), int64(1), object(7)\n",
      "memory usage: 1.3+ MB\n"
     ]
    },
    {
     "data": {
      "text/plain": [
       "array(['Önden Çekiş', None, 'Arkadan İtiş', '4WD (Sürekli)',\n",
       "       'AWD (Elektronik)'], dtype=object)"
      ]
     },
     "execution_count": 288,
     "metadata": {},
     "output_type": "execute_result"
    }
   ],
   "source": [
    "df['Çekiş'] = df['Çekiş'].apply(lambda x: None if pd.isna(x) else x)\n",
    "df.info()\n",
    "df[\"Çekiş\"].unique()"
   ]
  },
  {
   "cell_type": "code",
   "execution_count": 289,
   "id": "f347b422-c5a2-4d8a-a9cd-a9d9f89e9435",
   "metadata": {},
   "outputs": [
    {
     "name": "stdout",
     "output_type": "stream",
     "text": [
      "Fiyat           0\n",
      "Marka           0\n",
      "Seri            0\n",
      "Model           0\n",
      "Yıl             0\n",
      "Kilometre       0\n",
      "VitesTipi       0\n",
      "YakıtTipi       0\n",
      "KasaTipi       34\n",
      "MotorHacmi    468\n",
      "MotorGücü     308\n",
      "Çekiş         315\n",
      "dtype: int64\n"
     ]
    }
   ],
   "source": [
    "a=df[df[\"Yıl\"].isnull() & df[\"Yıl\"].isnull()& df[\"Kilometre\"].isnull() & df[\"VitesTipi\"].isnull() & df[\"YakıtTipi\"].isnull() & df[\"KasaTipi\"].isnull() & df[\"MotorHacmi\"].isnull() & df[\"MotorGücü\"].isnull() & df[\"Çekiş\"].isnull()]\n",
    "df=df.drop(a.index)\n",
    "print(df.isnull().sum())"
   ]
  },
  {
   "cell_type": "code",
   "execution_count": 290,
   "id": "c2512c36-57b9-422c-a3e6-bb266a4b5930",
   "metadata": {},
   "outputs": [
    {
     "name": "stdout",
     "output_type": "stream",
     "text": [
      "Fiyat         0\n",
      "Marka         0\n",
      "Seri          0\n",
      "Model         0\n",
      "Yıl           0\n",
      "Kilometre     0\n",
      "VitesTipi     0\n",
      "YakıtTipi     0\n",
      "KasaTipi      0\n",
      "MotorHacmi    0\n",
      "MotorGücü     0\n",
      "Çekiş         0\n",
      "dtype: int64\n"
     ]
    }
   ],
   "source": [
    "df = df[df[\"KasaTipi\"].notnull()]\n",
    "df[\"MotorHacmi\"].fillna(df[\"MotorHacmi\"].median(), inplace= True)\n",
    "df[\"MotorGücü\"].fillna(df[\"MotorGücü\"].median(), inplace= True)\n",
    "df[\"Çekiş\"].fillna(df[\"Çekiş\"].mode()[0], inplace=True)\n",
    "print(df.isnull().sum())"
   ]
  },
  {
   "cell_type": "code",
   "execution_count": 292,
   "id": "9261227e-5e6b-4952-babf-024321f8bd54",
   "metadata": {},
   "outputs": [
    {
     "name": "stdout",
     "output_type": "stream",
     "text": [
      "         Fiyat  Marka  Seri  Model   Yıl  Kilometre  VitesTipi  YakıtTipi  \\\n",
      "0       546000     11   210    428  2014   117000.0          0          4   \n",
      "1       685000     11   154    430  2018   144000.0          0          0   \n",
      "2       635000     11   154    429  2016   110000.0          0          4   \n",
      "3       555000     11   154    282  2017    87000.0          0          1   \n",
      "4       710000     11   154    430  2020    30800.0          0          0   \n",
      "...        ...    ...   ...    ...   ...        ...        ...        ...   \n",
      "10928   370000      2    74   1738  1997   286000.0          0          4   \n",
      "10929   449900      2    74   1740  2005   547000.0          1          1   \n",
      "10930  1250000      2    73   1694  2017    13850.0          2          1   \n",
      "10931  1759000      2    74   1733  2017    86996.0          2          0   \n",
      "10932  1580000      2    76   1771  2013   260000.0          1          1   \n",
      "\n",
      "       KasaTipi  MotorHacmi  MotorGücü  Çekiş  \n",
      "0             8      1368.0       77.0      3  \n",
      "1             3      1368.0       95.0      3  \n",
      "2             8      1368.0       95.0      3  \n",
      "3             8      1248.0       95.0      3  \n",
      "4             8      1368.0       95.0      3  \n",
      "...         ...         ...        ...    ...  \n",
      "10928         8      1781.0      150.0      0  \n",
      "10929         8      1896.0      130.0      3  \n",
      "10930         8      1598.0      116.0      3  \n",
      "10931         8      1395.0      150.0      3  \n",
      "10932         8      1968.0      177.0      3  \n",
      "\n",
      "[10871 rows x 12 columns]\n"
     ]
    }
   ],
   "source": [
    "#LabelEncoder\n",
    "label_encoder = LabelEncoder()\n",
    "for col in df.select_dtypes(include='object'):\n",
    "    df[col] = label_encoder.fit_transform(df[col])\n",
    "print(df)\n",
    "\n",
    "x=df.drop(\"Fiyat\", axis=1)\n",
    "y=df[\"Fiyat\"].values"
   ]
  },
  {
   "cell_type": "code",
   "execution_count": 293,
   "id": "f639856e-65df-4815-827f-082851459ece",
   "metadata": {},
   "outputs": [
    {
     "name": "stdout",
     "output_type": "stream",
     "text": [
      "x_train: (9783, 11)\n",
      "y_train: (9783,)\n",
      "x_test: (1087, 11)\n",
      "y_test: (1087,)\n"
     ]
    }
   ],
   "source": [
    "#Normalization\n",
    "scaller=MinMaxScaler()\n",
    "x= scaller.fit_transform(x)\n",
    "y = y.reshape(-1, 1)\n",
    "y = scaller.fit_transform(y).flatten()\n",
    "x=np.delete(x, 2, axis=0)\n",
    "y=np.delete(y, 2)\n",
    "\n",
    "x_train, x_test, y_train, y_test = train_test_split(x,y, test_size=0.1, random_state=42)\n",
    "print(\"x_train:\", x_train.shape)\n",
    "print(\"y_train:\", y_train.shape)\n",
    "print(\"x_test:\", x_test.shape)\n",
    "print(\"y_test:\", y_test.shape)"
   ]
  },
  {
   "cell_type": "code",
   "execution_count": 300,
   "id": "48550abe-75ed-4047-b02c-ea42cc76579d",
   "metadata": {},
   "outputs": [
    {
     "name": "stdout",
     "output_type": "stream",
     "text": [
      "Mean Absolute Error on Test Data: 0.00400378910439836\n"
     ]
    }
   ],
   "source": [
    "model= RandomForestRegressor(n_estimators=100, criterion='absolute_error', random_state=0)\n",
    "# Modeli eğitme\n",
    "model.fit(x_train, y_train)\n",
    "# Test verileri üzerinde tahmin yapma\n",
    "y_pred = model.predict(x_test)\n",
    "# Test hatasını hesaplama\n",
    "mae = mean_absolute_error(y_test, y_pred)\n",
    "print(\"Mean Absolute Error on Test Data:\", mae)"
   ]
  },
  {
   "cell_type": "code",
   "execution_count": 307,
   "id": "01150058-9339-48bf-ad9e-4e0a4b6fc596",
   "metadata": {},
   "outputs": [
    {
     "name": "stdout",
     "output_type": "stream",
     "text": [
      "[0.00292571]\n"
     ]
    }
   ],
   "source": [
    "\n",
    "a=np.array([0.91891892, 1.        , 0.40329218, 0.52380952, 0.00954   ,\n",
    "       0.        , 1.        , 0.88888889, 0.24555336, 0.00482691,\n",
    "       1.        ])\n",
    "a_reshaped = a.reshape(1, -1)\n",
    "print(model.predict(a_reshaped))"
   ]
  },
  {
   "cell_type": "code",
   "execution_count": 308,
   "id": "676ce9e5-cad8-4e90-a78b-0c1bdbef819d",
   "metadata": {},
   "outputs": [
    {
     "data": {
      "text/plain": [
       "['car_price_model.joblib']"
      ]
     },
     "execution_count": 308,
     "metadata": {},
     "output_type": "execute_result"
    }
   ],
   "source": [
    "model_filename = 'car_price_model.joblib'\n",
    "joblib.dump(model, model_filename)"
   ]
  },
  {
   "cell_type": "code",
   "execution_count": null,
   "id": "ba98a3e6-bacc-47bf-98d0-e92a49996f45",
   "metadata": {},
   "outputs": [],
   "source": []
  }
 ],
 "metadata": {
  "kernelspec": {
   "display_name": "Python 3 (ipykernel)",
   "language": "python",
   "name": "python3"
  },
  "language_info": {
   "codemirror_mode": {
    "name": "ipython",
    "version": 3
   },
   "file_extension": ".py",
   "mimetype": "text/x-python",
   "name": "python",
   "nbconvert_exporter": "python",
   "pygments_lexer": "ipython3",
   "version": "3.9.16"
  }
 },
 "nbformat": 4,
 "nbformat_minor": 5
}
